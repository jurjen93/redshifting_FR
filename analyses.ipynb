{
 "cells": [
  {
   "cell_type": "code",
   "execution_count": 280,
   "metadata": {},
   "outputs": [],
   "source": [
    "import pandas as pd\n",
    "import matplotlib.pyplot as plt\n",
    "import numpy as np"
   ]
  },
  {
   "cell_type": "code",
   "execution_count": 281,
   "metadata": {},
   "outputs": [],
   "source": [
    "df = pd.read_csv('data.csv')\n",
    "df = df[df.phys_size!='ERROR: no polygon']\n",
    "df.pix_size=df.pix_size.astype(float)\n",
    "df.phys_size=df.phys_size.astype(float)\n",
    "df.luminosity=df.luminosity.astype(float)"
   ]
  },
  {
   "cell_type": "code",
   "execution_count": 282,
   "metadata": {},
   "outputs": [],
   "source": [
    "#The following cases are sources that have wrong size estimations\n",
    "for group in df.groupby('source'):\n",
    "    if group[1].phys_size.max()/group[1].phys_size.min()>10:\n",
    "        df=df[df.source!=group[0]]\n",
    "\n",
    "#Only keep sources that have at least 5 shifts\n",
    "for group in df.groupby('source'):\n",
    "    if len(group[1][['luminosity', 'dz']])!=5:\n",
    "        df = df[df.source!=group[0]]"
   ]
  },
  {
   "cell_type": "code",
   "execution_count": 283,
   "metadata": {},
   "outputs": [],
   "source": [
    "FRI = df[df.type=='FRI']\n",
    "FRII = df[df.type=='FRII']\n",
    "\n",
    "FRI0 = df[(df.type=='FRI') & (df.dz==0)]\n",
    "FRII0 = df[(df.type=='FRII') & (df.dz==0)]"
   ]
  },
  {
   "cell_type": "code",
   "execution_count": 287,
   "metadata": {},
   "outputs": [
    {
     "data": {
      "image/png": "[encoded data removed]",
      "text/plain": [
       "<Figure size 576x576 with 3 Axes>"
      ]
     },
     "metadata": {
      "needs_background": "light"
     },
     "output_type": "display_data"
    }
   ],
   "source": [
    "left, width = 0.1, 0.65\n",
    "bottom, height = 0.1, 0.65\n",
    "spacing = 0.005\n",
    "\n",
    "rect_scatter = [left, bottom, width, height]\n",
    "rect_histx = [left, bottom + height + spacing, width, 0.2]\n",
    "rect_histy = [left + width + spacing, bottom, 0.2, height]\n",
    "\n",
    "# start with a rectangular Figure\n",
    "plt.figure(figsize=(8, 8))\n",
    "\n",
    "ax_scatter = plt.axes(rect_scatter)\n",
    "ax_scatter.tick_params(direction='in', top=True, right=True)\n",
    "ax_histx = plt.axes(rect_histx)\n",
    "ax_histx.tick_params(direction='in', labelbottom=False)\n",
    "ax_histy = plt.axes(rect_histy)\n",
    "ax_histy.tick_params(direction='in', labelleft=False)\n",
    "\n",
    "\n",
    "# the scatter plots:\n",
    "ax_scatter.scatter(FRI0.phys_size, FRI0.luminosity, color='red', s=5)\n",
    "ax_scatter.scatter(FRII0.phys_size, FRII0.luminosity, color='blue', s=5)\n",
    "ax_scatter.set_ylabel('Luminosity')\n",
    "ax_scatter.set_xlabel('Size (kpc)')\n",
    "\n",
    "ax_scatter.legend(['FRI' ,'FRII'])\n",
    "ax_histx.hist(FRI0.phys_size, bins=np.logspace(np.log10(df.phys_size.min()),np.log10(df.phys_size.max()), 100), color='red', alpha=0.8)\n",
    "ax_histy.hist(FRI0.luminosity, orientation='horizontal', bins=np.logspace(np.log10(df.luminosity.min()),np.log10(df.luminosity.max()), 100), color='red', alpha=0.8)\n",
    "ax_histx.hist(FRII0.phys_size, bins=np.logspace(np.log10(df.phys_size.min()),np.log10(df.phys_size.max()), 100), color='blue', alpha=0.8)\n",
    "ax_histy.hist(FRII0.luminosity, orientation='horizontal', bins=np.logspace(np.log10(df.luminosity.min()),np.log10(df.luminosity.max()), 100), color='blue', alpha=0.8)\n",
    "\n",
    "#log scales\n",
    "ax_scatter.set_yscale('log')\n",
    "ax_scatter.set_xscale('log')\n",
    "ax_histy.set_yscale('log')\n",
    "ax_histx.set_xscale('log')\n",
    "\n",
    "\n",
    "ax_histx.set_xlim(ax_scatter.get_xlim())\n",
    "ax_histy.set_ylim(ax_scatter.get_ylim())\n",
    "\n",
    "plt.show()"
   ]
  },
  {
   "cell_type": "code",
   "execution_count": 234,
   "metadata": {},
   "outputs": [
    {
     "name": "stdout",
     "output_type": "stream",
     "text": [
      "0 192.8444257984194\n",
      "0.1 185.0722923214779\n",
      "0.2 178.45645429817907\n",
      "0.3 171.40101299740346\n",
      "0.4 164.36661931076858\n"
     ]
    }
   ],
   "source": [
    "for delta_z in [0, 0.1, 0.2, 0.3, 0.4]:\n",
    "    print(delta_z, np.mean(FRI[FRI.dz==delta_z].phys_size))"
   ]
  },
  {
   "cell_type": "code",
   "execution_count": 235,
   "metadata": {},
   "outputs": [
    {
     "name": "stdout",
     "output_type": "stream",
     "text": [
      "0 622.5441419373147\n",
      "0.1 616.621808140232\n",
      "0.2 616.5019025698955\n",
      "0.3 617.3035223513899\n",
      "0.4 620.0870320451816\n"
     ]
    }
   ],
   "source": [
    "for delta_z in [0, 0.1, 0.2, 0.3, 0.4]:\n",
    "    print(delta_z, np.mean(FRII[FRII.dz==delta_z].phys_size))"
   ]
  },
  {
   "cell_type": "code",
   "execution_count": 236,
   "metadata": {},
   "outputs": [
    {
     "name": "stdout",
     "output_type": "stream",
     "text": [
      "0 5.914790493977754e+26\n",
      "0.1 5.811112368353592e+26\n",
      "0.2 5.716127001044855e+26\n",
      "0.3 5.633980075673369e+26\n",
      "0.4 5.5541777232880634e+26\n"
     ]
    }
   ],
   "source": [
    "for delta_z in [0, 0.1, 0.2, 0.3, 0.4]:\n",
    "    print(delta_z, np.mean(FRI[FRI.dz==delta_z].luminosity))"
   ]
  },
  {
   "cell_type": "code",
   "execution_count": 237,
   "metadata": {},
   "outputs": [
    {
     "name": "stdout",
     "output_type": "stream",
     "text": [
      "0 2.9702347379439533e+26\n",
      "0.1 2.9157813036402187e+26\n",
      "0.2 2.870851455220883e+26\n",
      "0.3 2.823729737097567e+26\n",
      "0.4 2.7842106101334198e+26\n"
     ]
    }
   ],
   "source": [
    "for delta_z in [0, 0.1, 0.2, 0.3, 0.4]:\n",
    "    print(delta_z, np.mean(FRII[FRII.dz==delta_z].luminosity))"
   ]
  },
  {
   "cell_type": "code",
   "execution_count": 238,
   "metadata": {},
   "outputs": [
    {
     "name": "stdout",
     "output_type": "stream",
     "text": [
      "1.0178413561900432\n",
      "1.0419951219031804\n",
      "\n",
      "1.0166170848358294\n",
      "1.0370725623195705\n",
      "\n",
      "1.0145806204970769\n",
      "1.041163358240377\n",
      "\n",
      "1.0143679868310125\n",
      "1.0427969725004498\n",
      "\n"
     ]
    }
   ],
   "source": [
    "for dz in [0, 0.1, 0.2, 0.3]:\n",
    "    print(np.mean(FRI[FRI.dz==0+dz].luminosity)/np.mean(FRI[FRI.dz==round(0.1+dz,1)].luminosity))\n",
    "    print(np.mean(FRI[FRI.dz==0+dz].phys_size)/np.mean(FRI[FRI.dz==round(0.1+dz,1)].phys_size))\n",
    "    print()"
   ]
  },
  {
   "cell_type": "code",
   "execution_count": 239,
   "metadata": {
    "scrolled": true
   },
   "outputs": [
    {
     "name": "stdout",
     "output_type": "stream",
     "text": [
      "1.0186754178839654\n",
      "1.009604483200075\n",
      "\n",
      "1.0156503563908286\n",
      "1.0001944934311422\n",
      "\n",
      "1.016687757863028\n",
      "0.9987014171271194\n",
      "\n",
      "1.0141940149284372\n",
      "0.9955110983620944\n",
      "\n"
     ]
    }
   ],
   "source": [
    "for dz in [0, 0.1, 0.2, 0.3]:\n",
    "    print(np.mean(FRII[FRII.dz==dz].luminosity)/np.mean(FRII[FRII.dz==round(0.1+dz,1)].luminosity))\n",
    "    print(np.mean(FRII[FRII.dz==dz].phys_size)/np.mean(FRII[FRII.dz==round(0.1+dz,1)].phys_size))\n",
    "    print()"
   ]
  },
  {
   "cell_type": "code",
   "execution_count": null,
   "metadata": {},
   "outputs": [],
   "source": []
  }
 ],
 "metadata": {
  "kernelspec": {
   "display_name": "Python 3",
   "language": "python",
   "name": "python3"
  },
  "language_info": {
   "codemirror_mode": {
    "name": "ipython",
    "version": 3
   },
   "file_extension": ".py",
   "mimetype": "text/x-python",
   "name": "python",
   "nbconvert_exporter": "python",
   "pygments_lexer": "ipython3",
   "version": "3.7.6"
  }
 },
 "nbformat": 4,
 "nbformat_minor": 4
}
