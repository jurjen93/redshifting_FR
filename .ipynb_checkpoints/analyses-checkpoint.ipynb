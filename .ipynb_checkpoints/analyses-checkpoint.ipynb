{
 "cells": [
  {
   "cell_type": "code",
   "execution_count": 1,
   "metadata": {},
   "outputs": [],
   "source": [
    "import pandas as pd\n",
    "import matplotlib.pyplot as plt\n",
    "import numpy as np"
   ]
  },
  {
   "cell_type": "code",
   "execution_count": 5,
   "metadata": {
    "scrolled": true
   },
   "outputs": [],
   "source": [
    "df = pd.read_csv('data.csv')\n",
    "df = df[df.phys_size!='ERROR: no polygon']\n",
    "df = df[df.luminosity!='ERROR: no polygon']\n",
    "df.pix_size=df.pix_size.astype(float)\n",
    "df.phys_size=df.phys_size.astype(float)\n",
    "df.luminosity=df.luminosity.astype(float)"
   ]
  },
  {
   "cell_type": "code",
   "execution_count": 6,
   "metadata": {},
   "outputs": [],
   "source": [
    "#The following cases are sources that have wrong size estimations\n",
    "for group in df.groupby('source'):\n",
    "    if group[1].phys_size.max()/group[1].phys_size.min()>10:\n",
    "        df=df[df.source!=group[0]]\n",
    "\n",
    "#Only keep sources that have at least 5 shifts\n",
    "for group in df.groupby('source'):\n",
    "    if len(group[1][['luminosity', 'dz']])!=5:\n",
    "        df = df[df.source!=group[0]]"
   ]
  },
  {
   "cell_type": "code",
   "execution_count": 7,
   "metadata": {},
   "outputs": [],
   "source": [
    "FRI = df[df.type=='FRI']\n",
    "FRII = df[df.type=='FRII']\n",
    "\n",
    "FRI0 = df[(df.type=='FRI') & (df.dz==0)]\n",
    "FRII0 = df[(df.type=='FRII') & (df.dz==0)]"
   ]
  },
  {
   "cell_type": "code",
   "execution_count": 8,
   "metadata": {},
   "outputs": [
    {
     "data": {
      "image/png": "[encoded data removed]",
      "text/plain": [
       "<Figure size 576x576 with 3 Axes>"
      ]
     },
     "metadata": {
      "needs_background": "light"
     },
     "output_type": "display_data"
    }
   ],
   "source": [
    "left, width = 0.1, 0.65\n",
    "bottom, height = 0.1, 0.65\n",
    "spacing = 0.005\n",
    "\n",
    "rect_scatter = [left, bottom, width, height]\n",
    "rect_histx = [left, bottom + height + spacing, width, 0.2]\n",
    "rect_histy = [left + width + spacing, bottom, 0.2, height]\n",
    "\n",
    "# start with a rectangular Figure\n",
    "plt.figure(figsize=(8, 8))\n",
    "\n",
    "ax_scatter = plt.axes(rect_scatter)\n",
    "ax_scatter.tick_params(direction='in', top=True, right=True)\n",
    "ax_histx = plt.axes(rect_histx)\n",
    "ax_histx.tick_params(direction='in', labelbottom=False)\n",
    "ax_histy = plt.axes(rect_histy)\n",
    "ax_histy.tick_params(direction='in', labelleft=False)\n",
    "\n",
    "\n",
    "# the scatter plots:\n",
    "ax_scatter.scatter(FRI0.phys_size, FRI0.luminosity, color='red', s=5)\n",
    "ax_scatter.scatter(FRII0.phys_size, FRII0.luminosity, color='blue', s=5)\n",
    "ax_scatter.set_ylabel('Luminosity')\n",
    "ax_scatter.set_xlabel('Size (kpc)')\n",
    "\n",
    "ax_scatter.legend(['FRI' ,'FRII'])\n",
    "ax_histx.hist(FRI0.phys_size, bins=np.logspace(np.log10(df.phys_size.min()),np.log10(df.phys_size.max()), 100), color='red', alpha=0.8)\n",
    "ax_histy.hist(FRI0.luminosity, orientation='horizontal', bins=np.logspace(np.log10(df.luminosity.min()),np.log10(df.luminosity.max()), 100), color='red', alpha=0.8)\n",
    "ax_histx.hist(FRII0.phys_size, bins=np.logspace(np.log10(df.phys_size.min()),np.log10(df.phys_size.max()), 100), color='blue', alpha=0.8)\n",
    "ax_histy.hist(FRII0.luminosity, orientation='horizontal', bins=np.logspace(np.log10(df.luminosity.min()),np.log10(df.luminosity.max()), 100), color='blue', alpha=0.8)\n",
    "\n",
    "#log scales\n",
    "ax_scatter.set_yscale('log')\n",
    "ax_scatter.set_xscale('log')\n",
    "ax_histy.set_yscale('log')\n",
    "ax_histx.set_xscale('log')\n",
    "\n",
    "\n",
    "ax_histx.set_xlim(ax_scatter.get_xlim())\n",
    "ax_histy.set_ylim(ax_scatter.get_ylim())\n",
    "\n",
    "plt.show()"
   ]
  },
  {
   "cell_type": "code",
   "execution_count": 9,
   "metadata": {},
   "outputs": [
    {
     "name": "stdout",
     "output_type": "stream",
     "text": [
      "0 211.17849943762104\n",
      "0.1 190.1801720626795\n",
      "0.2 171.30621188016625\n",
      "0.3 159.10978569835655\n",
      "0.4 145.21145437575632\n"
     ]
    }
   ],
   "source": [
    "for delta_z in [0, 0.1, 0.2, 0.3, 0.4]:\n",
    "    print(delta_z, np.mean(FRI[FRI.dz==delta_z].phys_size))"
   ]
  },
  {
   "cell_type": "code",
   "execution_count": 10,
   "metadata": {},
   "outputs": [
    {
     "name": "stdout",
     "output_type": "stream",
     "text": [
      "0 437.7495847241128\n",
      "0.1 457.31297344639233\n",
      "0.2 420.8806510810742\n",
      "0.3 438.8196519924782\n",
      "0.4 417.706126712079\n"
     ]
    }
   ],
   "source": [
    "for delta_z in [0, 0.1, 0.2, 0.3, 0.4]:\n",
    "    print(delta_z, np.mean(FRII[FRII.dz==delta_z].phys_size))"
   ]
  },
  {
   "cell_type": "code",
   "execution_count": 11,
   "metadata": {},
   "outputs": [
    {
     "name": "stdout",
     "output_type": "stream",
     "text": [
      "0 2.1586340926146698e+26\n",
      "0.1 2.1011552251039166e+26\n",
      "0.2 2.0534166926724805e+26\n",
      "0.3 2.0083268997355326e+26\n",
      "0.4 1.9661640783638902e+26\n"
     ]
    }
   ],
   "source": [
    "for delta_z in [0, 0.1, 0.2, 0.3, 0.4]:\n",
    "    print(delta_z, np.mean(FRI[FRI.dz==delta_z].luminosity))"
   ]
  },
  {
   "cell_type": "code",
   "execution_count": 12,
   "metadata": {},
   "outputs": [
    {
     "name": "stdout",
     "output_type": "stream",
     "text": [
      "0 9.030992926390792e+26\n",
      "0.1 8.832770548892645e+26\n",
      "0.2 8.68861030277566e+26\n",
      "0.3 8.555673051575227e+26\n",
      "0.4 8.26336153755795e+26\n"
     ]
    }
   ],
   "source": [
    "for delta_z in [0, 0.1, 0.2, 0.3, 0.4]:\n",
    "    print(delta_z, np.mean(FRII[FRII.dz==delta_z].luminosity))"
   ]
  },
  {
   "cell_type": "code",
   "execution_count": 13,
   "metadata": {},
   "outputs": [
    {
     "name": "stdout",
     "output_type": "stream",
     "text": [
      "1.027355840646143\n",
      "1.1104128109002915\n",
      "\n",
      "1.0232483414602545\n",
      "1.110176741259775\n",
      "\n",
      "1.0224514211022546\n",
      "1.0766541550431845\n",
      "\n",
      "1.021444202869746\n",
      "1.0957109849381181\n",
      "\n"
     ]
    }
   ],
   "source": [
    "for dz in [0, 0.1, 0.2, 0.3]:\n",
    "    print(np.mean(FRI[FRI.dz==0+dz].luminosity)/np.mean(FRI[FRI.dz==round(0.1+dz,1)].luminosity))\n",
    "    print(np.mean(FRI[FRI.dz==0+dz].phys_size)/np.mean(FRI[FRI.dz==round(0.1+dz,1)].phys_size))\n",
    "    print()"
   ]
  },
  {
   "cell_type": "code",
   "execution_count": 14,
   "metadata": {
    "scrolled": true
   },
   "outputs": [
    {
     "name": "stdout",
     "output_type": "stream",
     "text": [
      "1.0224416989438265\n",
      "0.9572210064917985\n",
      "\n",
      "1.0165918646473227\n",
      "1.0865621222352182\n",
      "\n",
      "1.0155379068834283\n",
      "0.9591198779955472\n",
      "\n",
      "1.0353744069757431\n",
      "1.0505463624548474\n",
      "\n"
     ]
    }
   ],
   "source": [
    "for dz in [0, 0.1, 0.2, 0.3]:\n",
    "    print(np.mean(FRII[FRII.dz==dz].luminosity)/np.mean(FRII[FRII.dz==round(0.1+dz,1)].luminosity))\n",
    "    print(np.mean(FRII[FRII.dz==dz].phys_size)/np.mean(FRII[FRII.dz==round(0.1+dz,1)].phys_size))\n",
    "    print()"
   ]
  },
  {
   "cell_type": "code",
   "execution_count": null,
   "metadata": {},
   "outputs": [],
   "source": []
  }
 ],
 "metadata": {
  "kernelspec": {
   "display_name": "Python 3",
   "language": "python",
   "name": "python3"
  },
  "language_info": {
   "codemirror_mode": {
    "name": "ipython",
    "version": 3
   },
   "file_extension": ".py",
   "mimetype": "text/x-python",
   "name": "python",
   "nbconvert_exporter": "python",
   "pygments_lexer": "ipython3",
   "version": "3.7.6"
  }
 },
 "nbformat": 4,
 "nbformat_minor": 4
}
